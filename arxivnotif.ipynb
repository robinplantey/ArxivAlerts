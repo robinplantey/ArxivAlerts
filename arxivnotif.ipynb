{
 "cells": [
  {
   "cell_type": "code",
   "execution_count": 46,
   "metadata": {},
   "outputs": [
    {
     "name": "stdout",
     "output_type": "stream",
     "text": [
      "New publications!\n",
      "enter password: \n",
      "unstabledownstairsfeelings\n"
     ]
    }
   ],
   "source": [
    "import urllib\n",
    "import urllib2\n",
    "from bs4 import BeautifulSoup\n",
    "import pickle\n",
    "import smtplib\n",
    "from email.mime.text import MIMEText\n",
    "\n",
    "def shuffle_name(name):\n",
    "    index = name.find(',')\n",
    "    shuffled = name[index+1:]+' '+name[:index]\n",
    "    return shuffled\n",
    "\n",
    "# Fetch the html files\n",
    "subscriptions = open(\"subscriptions.txt\", \"r\")\n",
    "for friend in subscriptions.readlines():\n",
    "\n",
    "    response = urllib2.urlopen('https://arxiv.org/search/?searchtype=author&query='+urllib.quote_plus('{}'.format(friend[:-1])))\n",
    "    html_doc = response.read()\n",
    "\n",
    "# Parse the html file\n",
    "    soup = BeautifulSoup(html_doc, 'html.parser')\n",
    "\n",
    "    date=[]\n",
    "    \n",
    "    for x in soup.ol.find_all('li'):\n",
    "        date.append(x.find(string='Submitted').next_element.string)\n",
    "\n",
    "    new_pubdates = date\n",
    "# with open(\"old_pubdates.txt\", \"w\") as file1:             \n",
    "#     pickle.dump(date[:32] ,file1)\n",
    "    \n",
    "    try:\n",
    "        file1 = open(\"old_pubdates_{}.txt\".format(friend[:-1]), \"r\")            #for testing replace old_pudates with testing_pubdates\n",
    "    except IOError:\n",
    "        with open(\"old_pubdates_{}.txt\".format(friend[:-1]), \"wb\") as file1:            #for testing replace old_pudates with testing_pubdates\n",
    "            pickle.dump(date[:-1], file1)\n",
    "    with open(\"old_pubdates_{}.txt\".format(friend[:-1]), \"r\") as file1:\n",
    "        old_pubdates = pickle.load(file1)\n",
    "    \n",
    "    a = len(new_pubdates) - len(old_pubdates)\n",
    "#   a=1\n",
    "    if  a>0:\n",
    "        \n",
    "        title=[]\n",
    "        abstract=[]\n",
    "        link=[]\n",
    "        authors=[]\n",
    "        \n",
    "        for x in soup.ol.find_all('li'):\n",
    "            title.append(x.find('p', class_='title is-5 mathjax').string)\n",
    "            abstract.append(x.find('span', class_='abstract-full has-text-grey-dark mathjax').next_element.string)\n",
    "            link.append('https://arxiv.org/abs/'+x.find('a').string[6:])\n",
    "            pub_authors = []\n",
    "            for y in x.find('p', class_ = 'authors').find_all('a'):\n",
    "                pub_authors.append(y.string)\n",
    "            authors.append(pub_authors)\n",
    "        \n",
    "        print(\"New publications!\")\n",
    "        new_dates = date[0:a]    \n",
    "        new_titles = title[0:a]\n",
    "        new_abstracts = abstract[0:a]\n",
    "        new_links = link[0:a]\n",
    "        new_authors = authors[0:a]\n",
    "    \n",
    "        fp = open(\"email.html\", \"w\")\n",
    "   \n",
    "        html_message = '''<html>\n",
    "        <head> \n",
    "        <title> arXiv notification - Erik Linnér </title> \n",
    "        </head>\n",
    "        <body style = \"font-size:14px;font-family: Helvetica;\">\n",
    "\n",
    "        <main margin: 0 auto; position: relative; >\n",
    "        <h2>Lastest articles by {} on arXiv </h2>\n",
    "        <ul>'''.format(shuffle_name(friend))\n",
    "    \n",
    "        for d, t, abst, auth, link in zip(new_dates, new_titles, new_abstracts, new_authors, new_links):\n",
    "            d = d.encode('utf-8').replace(';','')\n",
    "            t = t.encode('utf-8').strip()\n",
    "            abst = abst.encode('utf-8')\n",
    "            link = link.encode('utf-8')\n",
    "            auth_list = ''\n",
    "            i = 0\n",
    "            while i < len(auth)-1:\n",
    "                auth_list += auth[i].encode('utf-8', errors='ignore')+', '\n",
    "                i+=1\n",
    "            auth_list += auth[i].encode('utf-8', errors='ignore')\n",
    "        \n",
    "            html_message += '''<li>\n",
    "        <p> \n",
    "        <b><a style=\"font-size:120%;text-decoration:none;color:#086db1;\" href={}> {} </a></b>\n",
    "        </p>\n",
    "        <p>\n",
    "        <span style=\"color:#287916;background-color:#eeffe8\"><b> Authors:</b> </span>\n",
    "        {}\n",
    "        </p> \n",
    "        <p>\n",
    "        <span> \n",
    "        <b>Abstract:</b> {} \n",
    "        </span>\n",
    "        </p>\n",
    "        <p style = \"font-size:85%;\"><b>Submitted:</b> </span> {}\n",
    "        <br><br><br></p></li>'''.format(link,t, auth_list, abst, d)\n",
    "        html_message += '</ul></main></body></html>'\n",
    "    \n",
    "        fp.write(html_message)            \n",
    "        fp.close()\n",
    "    \n",
    "#     Open a plain text file for reading.  For this example, assume that\n",
    "# the text file contains only ASCII characters.\n",
    "        fp = open('email.html', 'rb')\n",
    "# Create a text/plain message\n",
    "        msg = MIMEText(fp.read(), 'html')\n",
    "        fp.close()\n",
    "\n",
    "        me = 'arxivnotif@gmail.com'\n",
    "        subscribers = ['robbhighflyer@gmail.com']\n",
    "        msg['Subject'] = 'Latest articles by {}'.format(shuffle_name(friend))\n",
    "        msg['From'] = me\n",
    "        msg['To'] = ', '.join(subscribers)\n",
    "\n",
    "        password = raw_input('enter password: \\n')\n",
    "\n",
    "# Send the message via our own SMTP server, but don't include the\n",
    "# envelope header.\n",
    "        s = smtplib.SMTP(host='smtp.gmail.com', port=25)\n",
    "        s.starttls()\n",
    "        s.login('arxivnotif@gmail.com', password)\n",
    "        s.sendmail(me, subscribers, msg.as_string())\n",
    "        s.quit()\n",
    "        \n",
    "    with open(\"old_pubdates_{}.txt\".format(friend[:-1]), \"wb\") as file2:\n",
    "        pickle.dump(new_pubdates, file2)"
   ]
  },
  {
   "cell_type": "code",
   "execution_count": 19,
   "metadata": {},
   "outputs": [],
   "source": [
    "l = ['Linnér, Erik','Padilla-Gay, Ian']\n",
    "file42 = open('subscriptions.txt','wb')\n",
    "file42.writelines('%s\\n' % friend for friend in l)"
   ]
  },
  {
   "cell_type": "code",
   "execution_count": 15,
   "metadata": {},
   "outputs": [
    {
     "name": "stdout",
     "output_type": "stream",
     "text": [
      "Linn%C3%A9r%2C+E\n",
      "Padilla-Gay%2C+I\n"
     ]
    }
   ],
   "source": [
    "subscriptions = open(\"subscriptions.txt\", \"r\")\n",
    "for friend in subscriptions.readlines():\n",
    "    print(urllib.quote_plus(friend[:-1]))"
   ]
  },
  {
   "cell_type": "code",
   "execution_count": 30,
   "metadata": {},
   "outputs": [
    {
     "name": "stdout",
     "output_type": "stream",
     "text": [
      " Erik Linnér\n"
     ]
    }
   ],
   "source": [
    "def shuffle_name(name):\n",
    "    index = name.find(',')\n",
    "    shuffled = name[index+1:]+' '+name[:index]\n",
    "    return shuffled\n",
    "print(shuffle_name('Linnér, Erik'))"
   ]
  },
  {
   "cell_type": "code",
   "execution_count": 34,
   "metadata": {},
   "outputs": [
    {
     "ename": "IOError",
     "evalue": "[Errno 2] No such file or directory: 'dada'",
     "output_type": "error",
     "traceback": [
      "\u001b[0;31m---------------------------------------------------------------------------\u001b[0m",
      "\u001b[0;31mIOError\u001b[0m                                   Traceback (most recent call last)",
      "\u001b[0;32m<ipython-input-34-41f6fcedb107>\u001b[0m in \u001b[0;36m<module>\u001b[0;34m()\u001b[0m\n\u001b[0;32m----> 1\u001b[0;31m \u001b[0mfile42\u001b[0m\u001b[0;34m=\u001b[0m\u001b[0mopen\u001b[0m\u001b[0;34m(\u001b[0m\u001b[0;34m\"dada\"\u001b[0m\u001b[0;34m,\u001b[0m\u001b[0;34m'r'\u001b[0m\u001b[0;34m)\u001b[0m\u001b[0;34m\u001b[0m\u001b[0m\n\u001b[0m",
      "\u001b[0;31mIOError\u001b[0m: [Errno 2] No such file or directory: 'dada'"
     ]
    }
   ],
   "source": [
    "file42=open(\"dada\",'r')"
   ]
  }
 ],
 "metadata": {
  "kernelspec": {
   "display_name": "Python 2",
   "language": "python",
   "name": "python2"
  },
  "language_info": {
   "codemirror_mode": {
    "name": "ipython",
    "version": 2
   },
   "file_extension": ".py",
   "mimetype": "text/x-python",
   "name": "python",
   "nbconvert_exporter": "python",
   "pygments_lexer": "ipython2",
   "version": "2.7.12"
  }
 },
 "nbformat": 4,
 "nbformat_minor": 2
}
